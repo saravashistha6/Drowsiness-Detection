{
 "cells": [
  {
   "cell_type": "code",
   "execution_count": 1,
   "id": "b1a4f8ff-c709-40cc-a72f-4ffe8736d545",
   "metadata": {},
   "outputs": [
    {
     "name": "stdout",
     "output_type": "stream",
     "text": [
      "pygame 2.6.1 (SDL 2.28.4, Python 3.12.7)\n",
      "Hello from the pygame community. https://www.pygame.org/contribute.html\n"
     ]
    }
   ],
   "source": [
    "import cv2\n",
    "import imutils\n",
    "from imutils import face_utils\n",
    "import dlib\n",
    "from scipy.spatial import distance\n",
    "from pygame import mixer\n",
    "\n",
    "mixer.init()\n",
    "mixer.music.load(r\"D:\\DrowsinessDetectionSystem\\music.wav\") #music\n",
    "def eye_aspect_ratio(eye):\n",
    "    A = distance.euclidean(eye[1], eye[5])\n",
    "    B = distance.euclidean(eye[2], eye[4])\n",
    "    C = distance.euclidean(eye[0], eye[3])\n",
    "    ear = (A+B)/(2.0*C)\n",
    "    return ear\n",
    "\n",
    "thresh = 0.25\n",
    "flag = 0\n",
    "frame_check = 20\n",
    "(lStart, lEnd) = face_utils.FACIAL_LANDMARKS_68_IDXS['left_eye']\n",
    "(rStart, rEnd) = face_utils.FACIAL_LANDMARKS_68_IDXS['right_eye']\n",
    "detect = dlib.get_frontal_face_detector()\n",
    "predict = dlib.shape_predictor(r\"D:\\DrowsinessDetectionSystem\\shape_predictor_68_face_landmarks.dat\")\n",
    "cap = cv2.VideoCapture(0)\n",
    "\n",
    "while True:\n",
    "    ret, frame = cap.read()\n",
    "    frame = imutils.resize(frame, width=450)\n",
    "    gray = cv2.cvtColor(frame, cv2.COLOR_BGR2GRAY)\n",
    "    subjects = detect(gray, 0)\n",
    "    for subject in subjects:\n",
    "        shape = predict(gray, subject)\n",
    "        shape = face_utils.shape_to_np(shape)\n",
    "        leftEye = shape[lStart:lEnd]\n",
    "        rightEye = shape[rStart:rEnd]\n",
    "        leftEar = eye_aspect_ratio(leftEye)\n",
    "        rightEar = eye_aspect_ratio(rightEye)\n",
    "        ear = (leftEar + rightEar) /2.0\n",
    "        leftEyeHull = cv2.convexHull(leftEye)\n",
    "        rightEyeHull = cv2.convexHull(rightEye)\n",
    "        cv2.drawContours(frame, [leftEyeHull], -1, (0, 255, 0), 1)\n",
    "        cv2.drawContours(frame, [rightEyeHull], -1, (0, 255, 0), 1)\n",
    "        if ear<thresh:\n",
    "            flag+=1\n",
    "            if flag>=frame_check:\n",
    "                cv2.putText(frame, \"************ALERT************\", (10,30), cv2.FONT_HERSHEY_SIMPLEX, 0.7, (0, 0,255), 2)\n",
    "                cv2.putText(frame, \"**********WAKEUP**********\", (10,325), cv2.FONT_HERSHEY_SIMPLEX, 0.7, (0, 0,255), 2)\n",
    "                mixer.music.play()\n",
    "        else:\n",
    "            flag = 0\n",
    "                \n",
    "                \n",
    "    cv2.imshow(\"Frame\", frame)\n",
    "    if cv2.waitKey(1) & 0xFF == ord(\"q\"):\n",
    "        break\n",
    "cv2.destroyAllWindows()\n",
    "cap.release()\n",
    "    \n"
   ]
  }
 ],
 "metadata": {
  "kernelspec": {
   "display_name": "Python 3 (ipykernel)",
   "language": "python",
   "name": "python3"
  },
  "language_info": {
   "codemirror_mode": {
    "name": "ipython",
    "version": 3
   },
   "file_extension": ".py",
   "mimetype": "text/x-python",
   "name": "python",
   "nbconvert_exporter": "python",
   "pygments_lexer": "ipython3",
   "version": "3.12.7"
  }
 },
 "nbformat": 4,
 "nbformat_minor": 5
}
